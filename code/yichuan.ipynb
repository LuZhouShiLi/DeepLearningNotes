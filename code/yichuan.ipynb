{
 "cells": [
  {
   "cell_type": "code",
   "execution_count": 101,
   "metadata": {},
   "outputs": [],
   "source": [
    "\"\"\"\n",
    "Genetic Algorithm\n",
    "\"\"\"\n",
    "from __future__ import division\n",
    "import numpy as np\n",
    "import matplotlib.pyplot as plt\n",
    "import math\n",
    "\n",
    "def aimFunction(x):\n",
    "    y=x+5*math.sin(5*x)+2*math.cos(3*x)\n",
    "    return y\n",
    "\n",
    "x=[i/100 for i in range(900)]\n",
    "y=[0 for i in range(900)]\n",
    "for i in range(900):\n",
    "    y[i]=aimFunction(x[i])"
   ]
  },
  {
   "cell_type": "code",
   "execution_count": 102,
   "metadata": {},
   "outputs": [],
   "source": [
    "population=[]\n",
    "for i  in range(10):\n",
    "    entity=''\n",
    "    for j in range(17):  \n",
    "        entity=entity+str(np.random.randint(0,2))\n",
    "    population.append(entity)"
   ]
  },
  {
   "cell_type": "code",
   "execution_count": 103,
   "metadata": {},
   "outputs": [],
   "source": [
    "\"\"\"\n",
    "utils.py\n",
    "\"\"\"\n",
    "from __future__ import division\n",
    "\n",
    "def decode(x):\n",
    "    y=0+int(x,2)/(2**17-1)*9\n",
    "    return y\n",
    "\n",
    "\n",
    "\n",
    "def fitness(population,aimFunction):\n",
    "    value=[]\n",
    "    for i in range(len(population)):\n",
    "        value.append(aimFunction(decode(population[i])))\n",
    "        #weed out negative value\n",
    "        if value[i]<0:\n",
    "            value[i]=0\n",
    "    return value"
   ]
  },
  {
   "cell_type": "code",
   "execution_count": 104,
   "metadata": {},
   "outputs": [],
   "source": [
    "\"\"\"\n",
    "selection.py\n",
    "\"\"\"\n",
    "from __future__ import division\n",
    "import numpy as np\n",
    "def selection(population,value):\n",
    "\n",
    "    #轮盘赌选择\n",
    "    fitness_sum=[]\n",
    "    for i in range(len(value)):\n",
    "        if i ==0:\n",
    "            fitness_sum.append(value[i])\n",
    "        else:\n",
    "            fitness_sum.append(fitness_sum[i-1]+value[i])\n",
    "\n",
    "    for i in range(len(fitness_sum)):\n",
    "        fitness_sum[i]/=sum(value)\n",
    "\n",
    "    #select new population\n",
    "    population_new=[]\n",
    "    for i in range(len(value)):\n",
    "        rand=np.random.uniform(0,1)\n",
    "        for j in range(len(value)):\n",
    "            if j==0:\n",
    "                if 0<rand and rand<=fitness_sum[j]:\n",
    "                    population_new.append(population[j])\n",
    "\n",
    "            else:\n",
    "                if fitness_sum[j-1]<rand and rand<=fitness_sum[j]:\n",
    "                    population_new.append(population[j])             \n",
    "    return population_new"
   ]
  },
  {
   "cell_type": "code",
   "execution_count": 105,
   "metadata": {},
   "outputs": [],
   "source": [
    "\"\"\"\n",
    "crossover.py\n",
    "\"\"\"\n",
    "from __future__ import division\n",
    "import numpy as np\n",
    "def crossover(population_new, pc):\n",
    "    half=int(len(population_new)/2)\n",
    "    father=population_new[:half]\n",
    "    mother=population_new[half:]\n",
    "    np.random.shuffle(father)\n",
    "    np.random.shuffle(mother)\n",
    "    offspring=[]\n",
    "    for i in range(half):      \n",
    "        if np.random.uniform(0,1)<=pc:\n",
    "            copint = np.random.randint(0,int(len(father[i])/2))\n",
    "            son=father[i][:copint]+(mother[i][copint:])\n",
    "            daughter=mother[i][:copint]+(father[i][copint:])\n",
    "        else:\n",
    "            son=father[i]\n",
    "            daughter=mother[i]\n",
    "        offspring.append(son)\n",
    "        offspring.append(daughter)\n",
    "    return offspring\n"
   ]
  },
  {
   "cell_type": "code",
   "execution_count": 106,
   "metadata": {},
   "outputs": [],
   "source": [
    "\"\"\"\n",
    "mutation.py\n",
    "\"\"\"\n",
    "from __future__ import division\n",
    "import numpy as np\n",
    "def mutation(offspring,pm):\n",
    "    for i in range(len(offspring)):\n",
    "        if np.random.uniform(0,1)<=pm:\n",
    "            position=np.random.randint(0,len(offspring[i]))\n",
    "            #'str' object does not support item assignment,cannot use = to change value\n",
    "            if position!=0:\n",
    "                if offspring[i][position]=='1':\n",
    "                    offspring[i]=offspring[i][:position-1]+'0'+offspring[i][position:]\n",
    "                else:\n",
    "                    offspring[i]=offspring[i][:position-1]+'1'+offspring[i][position:]\n",
    "            else:\n",
    "                if offspring[i][position]=='1':\n",
    "                    offspring[i]='0'+offspring[i][1:]\n",
    "                else:\n",
    "                    offspring[i]='1'+offspring[i][1:]\n",
    "    return offspring"
   ]
  },
  {
   "cell_type": "code",
   "execution_count": 107,
   "metadata": {},
   "outputs": [],
   "source": [
    "t=[]\n",
    "for i in range(10000):\n",
    "    #selection\n",
    "    value= fitness(population,aimFunction)\n",
    "    population_new=selection(population,value)\n",
    "    #crossover\n",
    "    offspring =crossover(population_new,0.8)\n",
    "    #mutation\n",
    "    population=mutation(offspring,0.02)\n",
    "    result=[]\n",
    "    for j in range(len(population)):\n",
    "        result.append(aimFunction(decode(population[j])))\n",
    "    t.append(max(result))"
   ]
  },
  {
   "cell_type": "code",
   "execution_count": 108,
   "metadata": {},
   "outputs": [
    {
     "data": {
      "text/plain": [
       "<matplotlib.lines.Line2D at 0x192b9812d08>"
      ]
     },
     "execution_count": 108,
     "metadata": {},
     "output_type": "execute_result"
    },
    {
     "data": {
      "image/png": "[encoded data removed]",
      "text/plain": [
       "<Figure size 432x288 with 1 Axes>"
      ]
     },
     "metadata": {
      "needs_background": "light"
     },
     "output_type": "display_data"
    }
   ],
   "source": [
    "plt.plot(t)\n",
    "plt.axhline(max(y), linewidth=1, color='r')      "
   ]
  }
 ],
 "metadata": {
  "kernelspec": {
   "display_name": "base",
   "language": "python",
   "name": "python3"
  },
  "language_info": {
   "codemirror_mode": {
    "name": "ipython",
    "version": 3
   },
   "file_extension": ".py",
   "mimetype": "text/x-python",
   "name": "python",
   "nbconvert_exporter": "python",
   "pygments_lexer": "ipython3",
   "version": "3.7.4"
  },
  "orig_nbformat": 4
 },
 "nbformat": 4,
 "nbformat_minor": 2
}
