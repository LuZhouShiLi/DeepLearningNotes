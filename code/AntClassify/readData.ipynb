{
 "cells": [
  {
   "cell_type": "code",
   "execution_count": 1,
   "metadata": {},
   "outputs": [],
   "source": [
    "from torch.utils.data import Dataset\n",
    "from PIL import Image\n",
    "import os\n",
    "\n",
    "class MyData(Dataset):\n",
    "    def __init__(self,root_dir,label_dir):\n",
    "        self.root_dir = root_dir\n",
    "        self.label_dir = label_dir\n",
    "        ## 拼接文件夹路径\n",
    "        self.path = os.path.join(self.root_dir,self.label_dir)\n",
    "        ## 获取图片文件列表\n",
    "        self.img_path = os.listdir(self.path)\n",
    "\n",
    "    def __getitem__(self, index) :\n",
    "        ## 获取图片名称\n",
    "        img_name = self.img_path[index]\n",
    "        ## 获取图片路径  使用图片文件名进行拼接 获取相对路径\n",
    "        img_item_path = os.path.join(self.root_dir,self.label_dir,img_name)\n",
    "        ## 读取图片\n",
    "        img = Image.open(img_item_path)\n",
    "        label = self.label_dir\n",
    "        ## 返回图片和标签\n",
    "        return img,label\n",
    "\n",
    "    def __len__(self):\n",
    "\n",
    "        ## 返回图片列表的长度\n",
    "        return len(self.img_path)\n",
    "\n"
   ]
  },
  {
   "cell_type": "code",
   "execution_count": 6,
   "metadata": {},
   "outputs": [
    {
     "name": "stdout",
     "output_type": "stream",
     "text": [
      "124\n"
     ]
    }
   ],
   "source": [
    "root_dir = \"../../AllData/dataset1/train\"\n",
    "ants_label_dir = \"ants\"\n",
    "\n",
    "## 实例化对象\n",
    "ants_dataset = MyData(root_dir,ants_label_dir)\n",
    "\n",
    "## 124张图片\n",
    "print(ants_dataset.__len__())"
   ]
  },
  {
   "cell_type": "code",
   "execution_count": 7,
   "metadata": {},
   "outputs": [
    {
     "name": "stdout",
     "output_type": "stream",
     "text": [
      "ants\n"
     ]
    }
   ],
   "source": [
    "## 根据索引 获取图片和标签\n",
    "img,label = ants_dataset[0]\n",
    "img.show()\n",
    "print(label)"
   ]
  },
  {
   "cell_type": "code",
   "execution_count": 8,
   "metadata": {},
   "outputs": [],
   "source": [
    "## 获取蜜蜂数据集  \n",
    "bees_label_dir = \"bees\"\n",
    "\n",
    "bees_dataset = MyData(root_dir,bees_label_dir)\n",
    "\n",
    "## 获取总数据集\n",
    "train_dataset = ants_dataset + bees_dataset\n",
    "\n",
    "## 展示蜜蜂数据\n",
    "img,label = train_dataset[124]\n",
    "img.show()"
   ]
  }
 ],
 "metadata": {
  "kernelspec": {
   "display_name": "AI",
   "language": "python",
   "name": "python3"
  },
  "language_info": {
   "codemirror_mode": {
    "name": "ipython",
    "version": 3
   },
   "file_extension": ".py",
   "mimetype": "text/x-python",
   "name": "python",
   "nbconvert_exporter": "python",
   "pygments_lexer": "ipython3",
   "version": "3.8.15"
  },
  "orig_nbformat": 4
 },
 "nbformat": 4,
 "nbformat_minor": 2
}
