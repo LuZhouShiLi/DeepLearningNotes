{
 "cells": [
  {
   "cell_type": "code",
   "execution_count": 10,
   "metadata": {},
   "outputs": [],
   "source": [
    "import torch \n",
    "from matplotlib  import pyplot as plt\n",
    "# 绘制曲线\n",
    "def plot_curve(data):\n",
    "    fig = plt.figure()\n",
    "    plt.legend(['value'],loc = 'upper right')\n",
    "    plt.xlabel('step')\n",
    "    plt.ylabel('value')\n",
    "    plt.show()\n",
    "\n",
    "#  绘制图片\n",
    "def plot_image(img,label,name):\n",
    "    fig = plt.figure()\n",
    "    for i in range(6):\n",
    "        plt.subplot(2,3,i + 1)\n",
    "        plt.tight_layout()\n",
    "        plt.imshow(img[i][0] * 0.3081 + 0.1307,cmap = 'gray')\n",
    "        plt.title(\"{}:{}\".format(name,label[i].item()))\n",
    "        plt.xticks([])\n",
    "        plt.yticks([])\n",
    "\n",
    "    plt.show()\n",
    "\n",
    "# one hot编码\n",
    "def one_hot(label,depth = 10):\n",
    "    out = torch.zeros(label.size(0),depth)\n",
    "    idx = torch.LongTensor(label).view(-1,1)\n",
    "    out.scatter_(dim = 1,index = idx ,value = 1)\n",
    "    return out\n"
   ]
  },
  {
   "cell_type": "code",
   "execution_count": 11,
   "metadata": {},
   "outputs": [],
   "source": [
    "from torch import nn\n",
    "from torch.nn import functional as F\n",
    "from torch import optim\n",
    "import torchvision\n",
    "from matplotlib import pyplot as plt\n",
    "\n",
    "\n",
    "#  加载数据集  batch_size表示每次取出512张图片\n",
    "batch_size = 512\n",
    "#  torchvision.transforms.Normalize((0.1307,),(0.3081,)) 表示归一化操作\n",
    "# torchvision.transforms.ToTensor() 表示将numpy张量 转换为tensor\n",
    "train_loader = torch.utils.data.DataLoader(torchvision.datasets.MNIST('minst_data',\n",
    "                                                                      train = True,\n",
    "                                                                      download=True,\n",
    "                                                                      transform=torchvision.transforms.\n",
    "                                                                      Compose([torchvision.transforms.ToTensor(),\n",
    "                                                                               torchvision.transforms.Normalize((0.1307,),(0.3081,))])),\n",
    "                                                                               batch_size=batch_size,shuffle = True)\n",
    "\n",
    "\n",
    "#  加载测试数据集\n",
    "test_loader = torch.utils.data.DataLoader(torchvision.datasets.MNIST('minst_data',\n",
    "                                                                      train = False,\n",
    "                                                                      download=True,\n",
    "                                                                      transform=torchvision.transforms.\n",
    "                                                                      Compose([torchvision.transforms.ToTensor(),\n",
    "                                                                               torchvision.transforms.Normalize((0.1307,),(0.3081,))])),\n",
    "                                                                               batch_size=batch_size,shuffle = False)"
   ]
  },
  {
   "cell_type": "code",
   "execution_count": 12,
   "metadata": {},
   "outputs": [
    {
     "name": "stdout",
     "output_type": "stream",
     "text": [
      "torch.Size([512, 1, 28, 28]) torch.Size([512])\n"
     ]
    },
    {
     "data": {
      "image/png": "[encoded data removed]",
      "text/plain": [
       "<Figure size 432x288 with 6 Axes>"
      ]
     },
     "metadata": {},
     "output_type": "display_data"
    }
   ],
   "source": [
    "x,y = next(iter(train_loader))\n",
    "\n",
    "#  输出 512 1 28 28 也就是512张图片  1 通道 28 x 28大小\n",
    "print(x.shape,y.shape)\n",
    "\n",
    "plot_image(x,y,'image sample')"
   ]
  },
  {
   "cell_type": "code",
   "execution_count": 13,
   "metadata": {},
   "outputs": [],
   "source": [
    "#  编写网络\n",
    "class Net(nn.Module):\n",
    "    def __init__(self):\n",
    "        super(Net,self).__init__()\n",
    "\n",
    "        # xw + b\n",
    "        self.fc1 = nn.Linear(28 * 28,256)\n",
    "        self.fc2 = nn.Linear(256,64)\n",
    "        self.fc3 = nn.Linear(64,10)\n",
    "\n",
    "    def forward(self,x):\n",
    "        x = F.relu(self.fc1(x))\n",
    "        x = F.relu(self.fc2(x))\n",
    "        x = self.fc3(x)\n",
    "\n",
    "        return x\n",
    "    "
   ]
  },
  {
   "cell_type": "code",
   "execution_count": 14,
   "metadata": {},
   "outputs": [
    {
     "name": "stdout",
     "output_type": "stream",
     "text": [
      "第0次迭代的损失是0.1300497055053711\n",
      "第0次迭代的损失是0.10195918381214142\n",
      "第0次迭代的损失是0.08857591450214386\n",
      "第0次迭代的损失是0.08089607954025269\n",
      "第0次迭代的损失是0.07421528548002243\n",
      "第0次迭代的损失是0.06875762343406677\n",
      "第0次迭代的损失是0.06444506347179413\n",
      "第0次迭代的损失是0.06162204593420029\n",
      "第0次迭代的损失是0.05735468119382858\n",
      "第0次迭代的损失是0.058026812970638275\n",
      "第0次迭代的损失是0.05461948364973068\n",
      "第0次迭代的损失是0.05312863737344742\n",
      "第1次迭代的损失是0.04999012500047684\n",
      "第1次迭代的损失是0.04899003356695175\n",
      "第1次迭代的损失是0.04792163521051407\n",
      "第1次迭代的损失是0.046678345650434494\n",
      "第1次迭代的损失是0.0460270419716835\n",
      "第1次迭代的损失是0.04134463146328926\n",
      "第1次迭代的损失是0.045542534440755844\n",
      "第1次迭代的损失是0.043115872889757156\n",
      "第1次迭代的损失是0.040697939693927765\n",
      "第1次迭代的损失是0.04280713573098183\n",
      "第1次迭代的损失是0.04083523526787758\n",
      "第1次迭代的损失是0.040383100509643555\n",
      "第2次迭代的损失是0.038198117166757584\n",
      "第2次迭代的损失是0.03787333890795708\n",
      "第2次迭代的损失是0.038305819034576416\n",
      "第2次迭代的损失是0.03706532344222069\n",
      "第2次迭代的损失是0.03498927503824234\n",
      "第2次迭代的损失是0.04087337851524353\n",
      "第2次迭代的损失是0.03694644197821617\n",
      "第2次迭代的损失是0.03592710942029953\n",
      "第2次迭代的损失是0.03296944499015808\n",
      "第2次迭代的损失是0.03484991937875748\n",
      "第2次迭代的损失是0.03426184132695198\n",
      "第2次迭代的损失是0.03407859057188034\n"
     ]
    }
   ],
   "source": [
    "net = Net()\n",
    "# 定义优化器\n",
    "optimizer = optim.SGD(net.parameters(),lr = 0.01,momentum=0.9)\n",
    "\n",
    "# 保存训练损失\n",
    "train_loss = []\n",
    "for epoch in range(3):\n",
    "    for batch_idx,(x,y) in enumerate(train_loader):\n",
    "        #  将 [b,1,28,28] 转换成 [b.feature] 二维的tensor\n",
    "\n",
    "        x = x.view(x.size(0),28 * 28) # 第一个参数表示图片的batch_size  \n",
    "\n",
    "        # 最后的out形状是 [b,10] 表示每一张图片有 十个类别的概率\n",
    "        out = net(x)\n",
    "\n",
    "        # 转换为独热编码\n",
    "        y_onehot = one_hot(y)\n",
    "\n",
    "        # 计算损失\n",
    "        loss = F.mse_loss(out,y_onehot)\n",
    "\n",
    "        # 梯度清零\n",
    "        optimizer.zero_grad()\n",
    "\n",
    "        # 计算梯度\n",
    "        loss.backward()\n",
    "\n",
    "        # 更新优化\n",
    "        optimizer.step()\n",
    "\n",
    "        train_loss.append(loss.item())\n",
    "\n",
    "        if batch_idx % 10 ==0:\n",
    "            print(\"第{}次迭代的损失是{}\".format(epoch,loss.item()))\n",
    "\n",
    "\n"
   ]
  },
  {
   "cell_type": "code",
   "execution_count": 15,
   "metadata": {},
   "outputs": [
    {
     "data": {
      "image/png": "[encoded data removed]",
      "text/plain": [
       "<Figure size 432x288 with 1 Axes>"
      ]
     },
     "metadata": {
      "needs_background": "light"
     },
     "output_type": "display_data"
    }
   ],
   "source": [
    "plot_curve(train_loss)"
   ]
  },
  {
   "cell_type": "code",
   "execution_count": 16,
   "metadata": {},
   "outputs": [
    {
     "name": "stdout",
     "output_type": "stream",
     "text": [
      "test acc: 0.8807\n"
     ]
    }
   ],
   "source": [
    "total_correct = 0\n",
    "\n",
    "# 计算正确率\n",
    "for x,y in test_loader:\n",
    "    x = x.view(x.size(0),28 * 28)\n",
    "    out = net(x)\n",
    "    pred = out.argmax(dim = 1)\n",
    "    correct = pred.eq(y).sum().float().item()\n",
    "    total_correct += correct\n",
    "\n",
    "total_num  = len(test_loader.dataset)\n",
    "acc = total_correct / total_num\n",
    "print('test acc:',acc)  # 测试集的正确率 0.8807"
   ]
  },
  {
   "cell_type": "code",
   "execution_count": 17,
   "metadata": {},
   "outputs": [
    {
     "data": {
      "image/png": "[encoded data removed]",
      "text/plain": [
       "<Figure size 432x288 with 6 Axes>"
      ]
     },
     "metadata": {},
     "output_type": "display_data"
    }
   ],
   "source": [
    "#  使用测试集进行测试\n",
    "x,y = next(iter(test_loader))  # 从test_loader中加载出一个数据\n",
    "out = net(x.view(x.size(0),28 * 28))\n",
    "pred = out.argmax(dim=1)\n",
    "plot_image(x,pred,'test')"
   ]
  }
 ],
 "metadata": {
  "kernelspec": {
   "display_name": "base",
   "language": "python",
   "name": "python3"
  },
  "language_info": {
   "codemirror_mode": {
    "name": "ipython",
    "version": 3
   },
   "file_extension": ".py",
   "mimetype": "text/x-python",
   "name": "python",
   "nbconvert_exporter": "python",
   "pygments_lexer": "ipython3",
   "version": "3.7.4"
  },
  "orig_nbformat": 4
 },
 "nbformat": 4,
 "nbformat_minor": 2
}
