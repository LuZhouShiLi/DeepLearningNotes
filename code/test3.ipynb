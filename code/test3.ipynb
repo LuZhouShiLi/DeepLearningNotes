{
 "cells": [
  {
   "cell_type": "code",
   "execution_count": 11,
   "metadata": {},
   "outputs": [
    {
     "name": "stdout",
     "output_type": "stream",
     "text": [
      "<PIL.JpegImagePlugin.JpegImageFile image mode=RGB size=768x512 at 0x224F1F7BCD0>\n",
      "tensor(0.3137)\n",
      "tensor(-0.3725)\n",
      "(768, 512)\n",
      "<PIL.Image.Image image mode=RGB size=512x512 at 0x224F22B30A0>\n"
     ]
    }
   ],
   "source": [
    "from PIL import Image\n",
    "from torchvision import transforms\n",
    "from tensorboardX import SummaryWriter\n",
    "\n",
    "\n",
    "img = Image.open(\"../AllData/dataset1/train/ants_image/0013035.jpg\")\n",
    "print(img)\n",
    "\n",
    "\n",
    "#  获取tensorboard\n",
    "writer = SummaryWriter(\"logs\")\n",
    "trans_toTensor = transforms.ToTensor()\n",
    "#  获取图片张量\n",
    "img_tensor = trans_toTensor(img)\n",
    "\n",
    "writer.add_image(\"ToTensor\",img_tensor)\n",
    "\n",
    "print(img_tensor[0][0][0])  ## 输出第一个像素点\n",
    "\n",
    "# 正则化  transforms  获取正则化对象 2 X - 1\n",
    "trans_norm = transforms.Normalize([0.5,0.5,0.5],[0.5,0.5,0.5])\n",
    "\n",
    "#  对图片张量进行正则化  得到的仍然是一个张量\n",
    "img_norm = trans_norm(img_tensor)\n",
    "\n",
    "print(img_norm[0][0][0])\n",
    "\n",
    "writer.add_image(\"Normalize\",img_norm)\n",
    "\n",
    "\n",
    "# 打印图片的尺寸\n",
    "print(img.size)\n",
    "\n",
    "# 获取512 512 resize对象\n",
    "trans_resize = transforms.Resize((512,512))\n",
    "\n",
    "img_resize = trans_resize(img) # 返回的是图片数据类型\n",
    "\n",
    "print(img_resize)\n",
    "\n",
    "#  转换成张量  放到tensorboard\n",
    "imgRes_tensor = trans_toTensor(img_resize)\n",
    "writer.add_image(\"Resize\",imgRes_tensor,0)\n",
    "\n",
    "\n",
    "\n",
    "#  Compose - Resize - 2\n",
    "trans_resize_2 = transforms.Resize(512)\n",
    "trans_compose = transforms.Compose([trans_resize_2,trans_toTensor])\n",
    "img_resize_2 = trans_compose(img)\n",
    "writer.add_image(\"Resize\",img_resize_2,1)\n",
    "\n",
    "\n",
    "# RandomCrop\n",
    "trans_random = transforms.RandomCrop(512)  # 随机裁剪的尺寸\n",
    "# 获取compose  最后得到的是张量\n",
    "trans_compose_2 = transforms.Compose([trans_random,trans_toTensor])\n",
    "\n",
    "for i in range(10):\n",
    "    #  将img转换成指定的张量\n",
    "    img_crop = trans_compose_2(img)\n",
    "    # 随即裁剪十次\n",
    "    writer.add_image(\"RandomCrop\",img_crop,i)\n",
    "\n",
    "\n",
    "writer.close()\n"
   ]
  }
 ],
 "metadata": {
  "kernelspec": {
   "display_name": "AI",
   "language": "python",
   "name": "python3"
  },
  "language_info": {
   "codemirror_mode": {
    "name": "ipython",
    "version": 3
   },
   "file_extension": ".py",
   "mimetype": "text/x-python",
   "name": "python",
   "nbconvert_exporter": "python",
   "pygments_lexer": "ipython3",
   "version": "3.8.15"
  },
  "orig_nbformat": 4
 },
 "nbformat": 4,
 "nbformat_minor": 2
}
