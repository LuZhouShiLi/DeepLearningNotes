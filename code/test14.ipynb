{
 "cells": [
  {
   "cell_type": "code",
   "execution_count": 2,
   "metadata": {},
   "outputs": [
    {
     "name": "stdout",
     "output_type": "stream",
     "text": [
      "tensor([0, 1])\n",
      "tensor([1, 1])\n",
      "tensor([False,  True])\n"
     ]
    }
   ],
   "source": [
    "import torch\n",
    "\n",
    "outputs = torch.tensor([[0.1,0.2],\n",
    "                        [0.05,0.4]])\n",
    "\n",
    "#  表示从列 找最大索引\n",
    "print(outputs.argmax(0))\n",
    "\n",
    "#  表示从行  找最大索引\n",
    "print(outputs.argmax(1))\n",
    "\n",
    "preds = outputs.argmax(1)\n",
    "\n",
    "# 真实的target\n",
    "targets = torch.tensor([0,1])\n",
    "\n",
    "#  比较预测值和真实值\n",
    "print((preds == targets).sum())"
   ]
  }
 ],
 "metadata": {
  "kernelspec": {
   "display_name": "AI",
   "language": "python",
   "name": "python3"
  },
  "language_info": {
   "codemirror_mode": {
    "name": "ipython",
    "version": 3
   },
   "file_extension": ".py",
   "mimetype": "text/x-python",
   "name": "python",
   "nbconvert_exporter": "python",
   "pygments_lexer": "ipython3",
   "version": "3.8.15"
  },
  "orig_nbformat": 4
 },
 "nbformat": 4,
 "nbformat_minor": 2
}
