{
 "cells": [
  {
   "cell_type": "code",
   "execution_count": 2,
   "metadata": {},
   "outputs": [],
   "source": [
    "import torchvision\n",
    "\n",
    "from torch.utils.data import DataLoader\n",
    "\n",
    "from tensorboardX import SummaryWriter\n",
    "\n",
    "#  下载测试集  同时将PIL_IMAGE 转换成张量形式  测试集  非训练集\n",
    "test_data =torchvision.datasets.CIFAR10(\"./dataset\",train=False,transform=torchvision.transforms.ToTensor())\n",
    "\n",
    "\n",
    "#  数据集选择测试数据集  批量大小 选择4\n",
    "#  表示每次取出四个数据 进行打包\n",
    "\n",
    "#  shuffle 表示打乱顺序\n",
    "test_loader = DataLoader(dataset = test_data,batch_size = 4,shuffle=True,num_workers=0,drop_last = False)\n",
    "\n",
    "#  测试数据集的第一张图片\n",
    "img,target = test_data[0]\n",
    "\n",
    "# 张量形式\n",
    "# print(img.shape)\n",
    "# print(target)\n",
    "\n",
    "writer = SummaryWriter(\"dataloader\")\n",
    "\n",
    "# 遍历测试数据集两轮  \n",
    "\n",
    "for epoch in range(2):\n",
    "    step = 0\n",
    "    #  循环遍历 test_loader数据  每次批量取出四张图片\n",
    "    for data in test_loader:\n",
    "        imgs,targets = data\n",
    "        writer.add_images(\"Epoch:{}\".format(epoch),imgs,step)\n",
    "        step = step + 1\n",
    "\n",
    "writer.close()"
   ]
  }
 ],
 "metadata": {
  "kernelspec": {
   "display_name": "AI",
   "language": "python",
   "name": "python3"
  },
  "language_info": {
   "codemirror_mode": {
    "name": "ipython",
    "version": 3
   },
   "file_extension": ".py",
   "mimetype": "text/x-python",
   "name": "python",
   "nbconvert_exporter": "python",
   "pygments_lexer": "ipython3",
   "version": "3.8.15"
  },
  "orig_nbformat": 4
 },
 "nbformat": 4,
 "nbformat_minor": 2
}
