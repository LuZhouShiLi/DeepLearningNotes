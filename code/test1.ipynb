{
 "cells": [
  {
   "cell_type": "code",
   "execution_count": 11,
   "metadata": {},
   "outputs": [
    {
     "name": "stdout",
     "output_type": "stream",
     "text": [
      "<class 'numpy.ndarray'>\n",
      "(512, 768, 3)\n"
     ]
    }
   ],
   "source": [
    "# from torch.utils.tensorboardX import SummaryWriter\n",
    "from tensorboardX import SummaryWriter\n",
    "import numpy as np\n",
    "from PIL import Image\n",
    "\n",
    "## 创建一个实例\n",
    "writer = SummaryWriter(\"logs\")\n",
    "\n",
    "# 填写相对路径\n",
    "image_path = \"../AllData/dataset1/train/ants_image/0013035.jpg\"\n",
    "\n",
    "#  获取图片\n",
    "img_PIL = Image.open(image_path)\n",
    "\n",
    "# 转换为numpy张量\n",
    "img_array = np.array(img_PIL)\n",
    "\n",
    "#  打印类型 以及形状\n",
    "print(type(img_array))\n",
    "print(img_array.shape)\n",
    "\n",
    "#  指定图片形状 H W C   第二个参数也可以是tensor张量\n",
    "writer.add_image(\"test\",img_array,1,dataformats='HWC')\n",
    "\n",
    "\n",
    "for i in range(100):\n",
    "\n",
    "    #  绘制图像\n",
    "    #  y轴  x轴\n",
    "    writer.add_scalar(\"y=2x\",2 * i,i)\n",
    "\n",
    "writer.close()\n"
   ]
  },
  {
   "cell_type": "markdown",
   "metadata": {},
   "source": []
  }
 ],
 "metadata": {
  "kernelspec": {
   "display_name": "Python 3",
   "language": "python",
   "name": "python3"
  },
  "language_info": {
   "codemirror_mode": {
    "name": "ipython",
    "version": 3
   },
   "file_extension": ".py",
   "mimetype": "text/x-python",
   "name": "python",
   "nbconvert_exporter": "python",
   "pygments_lexer": "ipython3",
   "version": "3.8.15"
  },
  "orig_nbformat": 4
 },
 "nbformat": 4,
 "nbformat_minor": 2
}
