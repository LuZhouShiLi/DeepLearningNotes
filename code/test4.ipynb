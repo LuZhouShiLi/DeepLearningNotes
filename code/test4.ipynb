{
 "cells": [
  {
   "cell_type": "code",
   "execution_count": 18,
   "metadata": {},
   "outputs": [
    {
     "name": "stdout",
     "output_type": "stream",
     "text": [
      "Files already downloaded and verified\n",
      "Files already downloaded and verified\n"
     ]
    }
   ],
   "source": [
    "import torchvision\n",
    "from tensorboardX import SummaryWriter\n",
    "\n",
    "\n",
    "dataset_transform = torchvision.transforms.Compose([\n",
    "    torchvision.transforms.ToTensor()\n",
    "])\n",
    "\n",
    "# transform直接使用在dataset中\n",
    "\n",
    "#  获取数据集  第一个参数指定数据集存放位置  训练集\n",
    "#  将获取到的每一张图片转换成tensor数据类型\n",
    "train_set = torchvision.datasets.CIFAR10(root=\"./dataset\",train=True,transform = dataset_transform,download=True)\n",
    "\n",
    "\n",
    "# 获取测试集  将获取到的每一张图片转换成tensor数据类型\n",
    "test_set = torchvision.datasets.CIFAR10(root=\"./dataset\",train=False,transform = dataset_transform,download=True)\n",
    "\n",
    "\n",
    "# print(train_set[0])  # 张量数据类型\n",
    "\n",
    "#  导入tensorBoard\n",
    "writer = SummaryWriter(\"p10\")\n",
    "\n",
    "\n",
    "for i in range(10):\n",
    "\n",
    "    #  获取图片以及 标签  这里的img 其实已经是tensor数据类型\n",
    "    img,target = test_set[i] \n",
    "    # print(img)\n",
    "    # print(target)\n",
    "\n",
    "    writer.add_image(\"test_img\",img,i)\n",
    "\n",
    "\n",
    "writer.close()"
   ]
  }
 ],
 "metadata": {
  "kernelspec": {
   "display_name": "AI",
   "language": "python",
   "name": "python3"
  },
  "language_info": {
   "codemirror_mode": {
    "name": "ipython",
    "version": 3
   },
   "file_extension": ".py",
   "mimetype": "text/x-python",
   "name": "python",
   "nbconvert_exporter": "python",
   "pygments_lexer": "ipython3",
   "version": "3.8.15"
  },
  "orig_nbformat": 4
 },
 "nbformat": 4,
 "nbformat_minor": 2
}
