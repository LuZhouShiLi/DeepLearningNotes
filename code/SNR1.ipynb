{
 "cells": [
  {
   "cell_type": "code",
   "execution_count": 3,
   "metadata": {},
   "outputs": [
    {
     "name": "stdout",
     "output_type": "stream",
     "text": [
      "信噪比： -0.47104451805353165\n"
     ]
    },
    {
     "ename": "",
     "evalue": "",
     "output_type": "error",
     "traceback": [
      "\u001b[1;31m在当前单元格或上一个单元格中执行代码时 Kernel 崩溃。请查看单元格中的代码，以确定故障的可能原因。有关详细信息，请单击 <a href='https://aka.ms/vscodeJupyterKernelCrash'>此处</a>。有关更多详细信息，请查看 Jupyter <a href='command:jupyter.viewOutput'>log</a>。"
     ]
    }
   ],
   "source": [
    "import numpy as np\n",
    "import segyio\n",
    "\n",
    "def compute_snr(segy_file):\n",
    "    # 加载SEGY文件\n",
    "    with segyio.open(segy_file, \"r\") as segy:\n",
    "        # 获取道集数和采样点数\n",
    "        num_traces = segy.tracecount\n",
    "        num_samples = segy.samples.size\n",
    "\n",
    "        # 读取SEGY数据\n",
    "        data = segyio.tools.cube(segy)[:]\n",
    "        # data = segy.trace.raw[:]\n",
    "\n",
    "    # 提取地震信号和噪声信号\n",
    "    seismic_data = data[:, :, :num_samples//2]\n",
    "    noise_data = data[:, :, num_samples//2:]\n",
    "\n",
    "    # 计算地震信号和噪声信号的能量\n",
    "    seismic_energy = np.sum(seismic_data**2)\n",
    "    noise_energy = np.sum(noise_data**2)\n",
    "    # 计算信噪比\n",
    "    snr = 10 * np.log10(seismic_energy / noise_energy)\n",
    "    return snr\n",
    "\n",
    "# 示例用法\n",
    "segy_file = \"../SegyData/20220101_004700.sgy\"\n",
    "# folder_path = ''\n",
    "snr = compute_snr(segy_file)\n",
    "print(\"信噪比：\", snr)\n"
   ]
  }
 ],
 "metadata": {
  "kernelspec": {
   "display_name": "base",
   "language": "python",
   "name": "python3"
  },
  "language_info": {
   "codemirror_mode": {
    "name": "ipython",
    "version": 3
   },
   "file_extension": ".py",
   "mimetype": "text/x-python",
   "name": "python",
   "nbconvert_exporter": "python",
   "pygments_lexer": "ipython3",
   "version": "3.7.4"
  },
  "orig_nbformat": 4
 },
 "nbformat": 4,
 "nbformat_minor": 2
}
