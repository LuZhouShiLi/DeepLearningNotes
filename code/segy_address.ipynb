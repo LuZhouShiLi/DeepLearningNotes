{
 "cells": [
  {
   "cell_type": "code",
   "execution_count": 1,
   "metadata": {},
   "outputs": [
    {
     "name": "stdout",
     "output_type": "stream",
     "text": [
      "地震道数量:42\n",
      "采样点数量：15000\n",
      "Seismic data shape: (42, 15000)\n",
      "Trace 0 data: [-0.02413988 -0.02503395 -0.02622605 -0.02384186 -0.02413988 -0.01996756\n",
      " -0.02026558 -0.02384186 -0.01996756 -0.01817942]\n"
     ]
    }
   ],
   "source": [
    "import numpy as np\n",
    "import segyio\n",
    "\n",
    "# 读取SEGY文件\n",
    "segy_file = '../SegyData/20220101_115300.sgy'\n",
    "\n",
    "with segyio.open(segy_file, 'rb') as segy:\n",
    "    # 获取地震数据的一维数组\n",
    "    seismic_data = segy.trace.raw[:]\n",
    "\n",
    "    # 获取地震道数量和每个地震道的时间采样点数量\n",
    "    n_traces = segy.tracecount\n",
    "    n_samples = segy.samples.size\n",
    "\n",
    "    print(\"地震道数量:{}\".format(n_traces))\n",
    "    print(\"采样点数量：{}\".format(n_samples))\n",
    "\n",
    "    # 将一维数组重新形状为二维数组，形状为 (n_traces, n_samples)\n",
    "    seismic_data = seismic_data.reshape((n_traces, n_samples))\n",
    "\n",
    "# 打印地震数据的形状  42 x 15000  42个地震道  15000个采样点\n",
    "print(\"Seismic data shape:\", seismic_data.shape)\n",
    "\n",
    "# 可以使用NumPy进行进一步的处理和分析\n",
    "# 例如，获取第一条地震道的前10个采样点\n",
    "trace_0 = seismic_data[0, :10]\n",
    "print(\"Trace 0 data:\", trace_0)\n",
    "\n"
   ]
  }
 ],
 "metadata": {
  "kernelspec": {
   "display_name": "base",
   "language": "python",
   "name": "python3"
  },
  "language_info": {
   "codemirror_mode": {
    "name": "ipython",
    "version": 3
   },
   "file_extension": ".py",
   "mimetype": "text/x-python",
   "name": "python",
   "nbconvert_exporter": "python",
   "pygments_lexer": "ipython3",
   "version": "3.7.4"
  },
  "orig_nbformat": 4
 },
 "nbformat": 4,
 "nbformat_minor": 2
}
