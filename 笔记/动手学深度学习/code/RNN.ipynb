{
 "cells": [
  {
   "cell_type": "code",
   "execution_count": 2,
   "metadata": {},
   "outputs": [
    {
     "name": "stdout",
     "output_type": "stream",
     "text": [
      "odict_keys(['weight_ih_l0', 'weight_hh_l0', 'bias_ih_l0', 'bias_hh_l0'])\n"
     ]
    }
   ],
   "source": [
    "import torch \n",
    "from torch import nn\n",
    "\n",
    "# 每一个单词使用100维度的向量表示  语境信息向量使用10维度 起始也是特征提取之后的单词向量的维度\n",
    "rnn = nn.RNN(100,10)\n",
    "print(rnn._parameters.keys())"
   ]
  },
  {
   "cell_type": "code",
   "execution_count": 3,
   "metadata": {},
   "outputs": [
    {
     "data": {
      "text/plain": [
       "(torch.Size([10, 10]), torch.Size([10, 100]))"
      ]
     },
     "execution_count": 3,
     "metadata": {},
     "output_type": "execute_result"
    }
   ],
   "source": [
    "rnn.weight_hh_l0.shape,rnn.weight_ih_l0.shape\n",
    "# 打印的是 whh权重 就是 10 x 10 后面一个是wxh向量 也就是[100,10] 下面写的是转置向量"
   ]
  },
  {
   "cell_type": "code",
   "execution_count": 4,
   "metadata": {},
   "outputs": [
    {
     "data": {
      "text/plain": [
       "(torch.Size([10]), torch.Size([10]))"
      ]
     },
     "execution_count": 4,
     "metadata": {},
     "output_type": "execute_result"
    }
   ],
   "source": [
    "rnn.bias_hh_l0.shape,rnn.bias_ih_l0.shape"
   ]
  },
  {
   "cell_type": "code",
   "execution_count": 7,
   "metadata": {},
   "outputs": [
    {
     "name": "stdout",
     "output_type": "stream",
     "text": [
      "RNN(100, 20)\n",
      "torch.Size([10, 3, 20]) torch.Size([1, 3, 20])\n"
     ]
    }
   ],
   "source": [
    "# RNN创建\n",
    "rnn = nn.RNN(input_size = 100,hidden_size = 20,num_layers=1)\n",
    "print(rnn)\n",
    "\n",
    "#  10代表每一个句子的单词数量  3代表三个句子  100 代表每一个单词的维度\n",
    "x = torch.randn(10,3,100)\n",
    "\n",
    "#  第一个参数是输入向量x 第二个参数是h向量  只有一个单词 每一层三个句子 每一个单词使用20个维度\n",
    "out,h = rnn(x,torch.zeros(1,3,20))\n",
    "\n",
    "# 最后的输出out 是一个 10 x 3 x 20 的向量 也就是被提取成20个维度  然后h是一个1 3 20的向量\n",
    "print(out.shape,h.shape)\n",
    "\n"
   ]
  },
  {
   "cell_type": "code",
   "execution_count": 9,
   "metadata": {},
   "outputs": [
    {
     "name": "stdout",
     "output_type": "stream",
     "text": [
      "RNN(100, 20, num_layers=4)\n",
      "torch.Size([10, 3, 20]) torch.Size([4, 3, 20])\n"
     ]
    }
   ],
   "source": [
    "rnn = nn.RNN(input_size = 100,hidden_size = 20,num_layers = 4)\n",
    "print(rnn)\n",
    "\n",
    "x = torch.randn(10,3,100)\n",
    "\n",
    "# 这里面的h 是多层的 应该是[4,3,20]\n",
    "out,h = rnn(x)\n",
    "\n",
    "print(out.shape,h.shape)"
   ]
  },
  {
   "cell_type": "code",
   "execution_count": 10,
   "metadata": {},
   "outputs": [
    {
     "name": "stdout",
     "output_type": "stream",
     "text": [
      "torch.Size([3, 20])\n"
     ]
    }
   ],
   "source": [
    "\n",
    "#  100代表输入得特征维度  20代表提取的特征维度\n",
    "cell = nn.RNNCell(100,20)\n",
    "\n",
    "# 初始化输入  某一个时刻得输入\n",
    "x = torch.randn(3,100)\n",
    "\n",
    "# 初始化所有时刻得输入\n",
    "xs = [torch.randn(3,100) for i in range(10)]\n",
    "\n",
    "# 初始化隐藏层记忆单元\n",
    "h = torch.zeros(3,20)\n",
    "\n",
    "\n",
    "#  针对每一个时刻得输入 传入RNN单元\n",
    "for xt in xs:\n",
    "    h = cell(xt,h)\n",
    "\n",
    "# 查看最后的输出\n",
    "print(h.shape)\n"
   ]
  },
  {
   "cell_type": "code",
   "execution_count": 11,
   "metadata": {},
   "outputs": [
    {
     "name": "stdout",
     "output_type": "stream",
     "text": [
      "torch.Size([3, 30])\n",
      "torch.Size([3, 20])\n"
     ]
    }
   ],
   "source": [
    "\n",
    "#  定义两层计算单元\n",
    "cell_l0 = nn.RNNCell(100,30)\n",
    "cell_l1 = nn.RNNCell(30,20)\n",
    "\n",
    "\n",
    "# 定义两层的隐藏单元\n",
    "h_l0 = torch.zeros(3,30)\n",
    "h_l1 = torch.zeros(3,20)\n",
    "\n",
    "\n",
    "# 初始化原始输入\n",
    "xs = [torch.randn(3,100) for i in range(4)]\n",
    "\n",
    "for xt in xs:\n",
    "    h_l0 = cell_l0(xt,h_l0)\n",
    "    h_l1 = cell_l1(h_l0,h_l1)\n",
    "\n",
    "\n",
    "print(h_l0.shape)\n",
    "print(h_l1.shape)"
   ]
  },
  {
   "cell_type": "code",
   "execution_count": 12,
   "metadata": {},
   "outputs": [],
   "source": [
    "class Net(nn.Module):\n",
    "    def __init__(self):\n",
    "        super(Net,self).__init__()\n",
    "        # RNN\n",
    "        self.rnn = nn.RNN(\n",
    "            input_size = 1, # feature_len = 1\n",
    "            hidden_size = 16, # 隐藏层记忆单元尺寸\n",
    "            num_layers = 1,# 层数\n",
    "            batch_first = True  # 确保输入时 按照[batch,seq_len,feature_len]的模式 1 x 50 x 1\n",
    "        )\n",
    "\n",
    "        #  对RNN 进行参数初始化\n",
    "        for p in self.rnn.parameters():\n",
    "            nn.init.normal_(p,mean=0.0,std=0.001)\n",
    "\n",
    "        #  输出层 直接使用一个线性变换 吧每一个时刻的记忆单元的Hidden_len的输出为所需要的feature_len = 1 因为是一个数据点\n",
    "        #  50 x 16 -> 50 x 1\n",
    "        self.linear = nn.Linear(16,1)\n",
    "\n",
    "\n",
    "    def forward(self,x,h):\n",
    "        # 这里的out原始形状是 1 x 50 x 16 最后变成 50 x 16\n",
    "        # h的原始形状是 1x 1  x 16  \n",
    "        out,h = self.rnn(x,h)\n",
    "        # 因为最后需要传递给线性层处理,所以需要展平\n",
    "        out = out.view(-1,16)\n",
    "        out = self.linear(out)\n",
    "\n",
    "        # 在把batch维度添加进去\n",
    "        out = out.unsqueeze(dim=0)\n",
    "\n",
    "        return out,h"
   ]
  },
  {
   "cell_type": "code",
   "execution_count": 27,
   "metadata": {},
   "outputs": [
    {
     "name": "stdout",
     "output_type": "stream",
     "text": [
      "迭代次数:1, loss:0.6077595353126526\n",
      "迭代次数:1001, loss:0.0008705517393536866\n",
      "迭代次数:2001, loss:0.0006055880803614855\n",
      "迭代次数:3001, loss:0.0003910020459443331\n",
      "迭代次数:4001, loss:0.00010049370757769793\n",
      "迭代次数:5001, loss:9.085277270060033e-05\n"
     ]
    }
   ],
   "source": [
    "lr = 0.01 \n",
    "model = Net()\n",
    "from torch import nn, optim\n",
    "criterion = nn.MSELoss()  # 均方差损失函数\n",
    "optimizer = optim.Adam(model.parameters(),lr) # 学习率\n",
    "\n",
    "# 初始化记忆单元 \n",
    "h = torch.zeros(1,1,16)\n",
    "\n",
    "# 生成样本数据\n",
    "num_points = 50\n",
    "seq_len = num_points - 1\n",
    "\n",
    "import numpy as np\n",
    "for iter in range(6000):\n",
    "    k = np.random.randint(3, size=1)[0]\n",
    "    # 取点的区间是[k, k+10],均匀地取num_points个点\n",
    "    time_steps = np.linspace(k, k + 10, num_points)\n",
    "    # 在这num_points个时刻上生成函数值数据\n",
    "    data = np.sin(time_steps)\n",
    "    # 将数据从shape=(num_points,)转换为shape=(num_points,1)\n",
    "    data = data.reshape(num_points, 1)  # feature_len=1\n",
    "    # 输入前49个点(seq_len=49),即下标0~48\n",
    "    x = torch.tensor(data[:-1]).float().view(1, seq_len, 1)  # batch,seq_len,feature_len\n",
    "    # 预测后49个点,即下标1~49\n",
    "    y = torch.tensor(data[1:]).float().view(1, seq_len, 1)  # batch,seq_len,feature_len\n",
    "\n",
    "    # 至此,生成了x->y的样本对, x和y都是shape如上面所写的序列\n",
    "    \n",
    "    # 将数据输入\n",
    "    out,h = model(x,h)\n",
    "    # h在循环中被\n",
    "    h = h.detach()\n",
    "\n",
    "    # 计算和预期输出之间的损失\n",
    "    loss = criterion(out,y)\n",
    "\n",
    "    # 更新网络参数\n",
    "    model.zero_grad()\n",
    "\n",
    "    # 计算梯度\n",
    "    loss.backward()\n",
    "    # 优化\n",
    "    optimizer.step()\n",
    "\n",
    "\n",
    "    if iter % 1000 == 0:\n",
    "        print(\"迭代次数:{}, loss:{}\".format(iter + 1, loss.item()))\n",
    "\n"
   ]
  },
  {
   "cell_type": "code",
   "execution_count": 29,
   "metadata": {},
   "outputs": [
    {
     "data": {
      "image/png": "[encoded data removed]",
      "text/plain": [
       "<Figure size 640x480 with 1 Axes>"
      ]
     },
     "metadata": {},
     "output_type": "display_data"
    }
   ],
   "source": [
    "from matplotlib import pyplot as plt\n",
    "# 先用同样的方式生成一组数据x,y\n",
    "k = np.random.randint(3, size=1)[0]\n",
    "time_steps = np.linspace(k, k + 10, num_points)\n",
    "data = np.sin(time_steps)\n",
    "data = data.reshape(num_points, 1)  # feature_len=1\n",
    "x = torch.tensor(data[:-1]).float().view(1, seq_len, 1)  # batch,seq_len,feature_len\n",
    "y = torch.tensor(data[1:]).float().view(1, seq_len, 1)  # batch,seq_len,feature_len\n",
    "\n",
    "# 用于记录预测出的点\n",
    "predictions = []\n",
    "\n",
    "# 取训练时输入的第一个点,即在x(1,seq_len,1)取seq_len里面第0号的数据\n",
    "# 这里将输入seq_len'设置为1(而不是49)\n",
    "# 输入什么长度的数据会自动调整网络结构来给出输出\n",
    "input = x[:, 0, :]\n",
    "# 输入的shape变成标准的(batch=1,seq_len'=1,feature_len=1)\n",
    "input = input.view(1, 1, 1)\n",
    "\n",
    "# 迭代seq_len次,每次预测出一个点\n",
    "for _ in range(x.shape[1]):\n",
    "    # 送入模型得到预测的序列，输入了一个点的序列也就输出了(下)一个点的序列\n",
    "    pred, h = model(input, h)\n",
    "    # 这里将预测出的(下一个点的)序列pred当成输入,来给到下一次循环\n",
    "    input = pred\n",
    "    # 把里面那个点的数取出来记录到列表里\n",
    "    # 这里用ravel()而不用flatten(),因为后者是原地操作,会改变pred也就是input\n",
    "    predictions.append(pred.detach().data.numpy().ravel()[0])\n",
    "\n",
    "# 绘制预测结果predictions和真实结果y的比较\n",
    "plt.scatter(time_steps[1:], y.data.numpy().ravel())\n",
    "plt.scatter(time_steps[1:], predictions, c='r')\n",
    "plt.show()\n"
   ]
  }
 ],
 "metadata": {
  "kernelspec": {
   "display_name": "AI",
   "language": "python",
   "name": "python3"
  },
  "language_info": {
   "codemirror_mode": {
    "name": "ipython",
    "version": 3
   },
   "file_extension": ".py",
   "mimetype": "text/x-python",
   "name": "python",
   "nbconvert_exporter": "python",
   "pygments_lexer": "ipython3",
   "version": "3.8.15"
  },
  "orig_nbformat": 4
 },
 "nbformat": 4,
 "nbformat_minor": 2
}
